{
 "cells": [
  {
   "cell_type": "code",
   "execution_count": 3,
   "metadata": {},
   "outputs": [],
   "source": [
    "from math import log"
   ]
  },
  {
   "attachments": {},
   "cell_type": "markdown",
   "metadata": {},
   "source": [
    " $l(x_{i}):香农熵,信息的期望值$ \n",
    "$$l\\left(x_{i}\\right)=-\\log _{2} p\\left(x_{i}\\right)$$\n",
    "$p(x_{i})$:选择该分类的概率 \n",
    "$$H=-\\sum_{i=1}^{n} p\\left(x_{i}\\right) \\log _{2} p\\left(x_{i}\\right) $$\n",
    "$H$：所有可能值包含的信息期望值"
   ]
  },
  {
   "cell_type": "code",
   "execution_count": 4,
   "metadata": {},
   "outputs": [],
   "source": [
    "def calcShanonEnt(dataSet):\n",
    "    numEntires = len(dataSet)  # 计算数据集实例总数\n",
    "    labelCounts = {} # 创建字典，\n",
    "    for featVec in dataSet:\n",
    "        currentLabel = featVec[-1]\n",
    "        if currentLabel not in labelCounts.keys:\n",
    "            labelCounts[currentLabel] = 0 \n",
    "            labelCounts[currentLabel] += 1 #属于该标签的样本统计数量++\n",
    "        shannonEnt = 0.0\n",
    "        for key in labelCounts:\n",
    "            prob = float(labelCounts[key]/numEntires) #计算概率\n",
    "            shannonEnt -= prob*log(prob,2) #求对数，概率*信息期望值（熵） 累加 得到信息期望值H\n",
    "        return shannonEnt"
   ]
  },
  {
   "attachments": {},
   "cell_type": "markdown",
   "metadata": {},
   "source": [
    "创建数据集"
   ]
  },
  {
   "cell_type": "code",
   "execution_count": 5,
   "metadata": {},
   "outputs": [],
   "source": [
    "def createDataSet():\n",
    "    dataSet =[ [1,1, 'yes'],\n",
    "               [1,1,'yes'],\n",
    "               [1,0,'no'],\n",
    "               [0, 1, 'no'],\n",
    "               [0, 1, 'yes']]\n",
    "    labels = ['no surfacing', 'flippers']\n",
    "    return dataSet, labels"
   ]
  },
  {
   "cell_type": "code",
   "execution_count": 6,
   "metadata": {},
   "outputs": [
    {
     "data": {
      "text/plain": [
       "[[1, 1, 'yes'], [1, 1, 'yes'], [1, 0, 'no'], [0, 1, 'no'], [0, 1, 'yes']]"
      ]
     },
     "execution_count": 6,
     "metadata": {},
     "output_type": "execute_result"
    }
   ],
   "source": [
    "myDat, labels = createDataSet()\n",
    "myDat"
   ]
  }
 ],
 "metadata": {
  "kernelspec": {
   "display_name": "base",
   "language": "python",
   "name": "python3"
  },
  "language_info": {
   "codemirror_mode": {
    "name": "ipython",
    "version": 3
   },
   "file_extension": ".py",
   "mimetype": "text/x-python",
   "name": "python",
   "nbconvert_exporter": "python",
   "pygments_lexer": "ipython3",
   "version": "3.9.13"
  },
  "orig_nbformat": 4
 },
 "nbformat": 4,
 "nbformat_minor": 2
}
