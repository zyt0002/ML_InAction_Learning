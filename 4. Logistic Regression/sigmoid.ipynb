{
 "cells": [
  {
   "cell_type": "code",
   "execution_count": 76,
   "metadata": {},
   "outputs": [],
   "source": [
    "import numpy as np\n",
    "import matplotlib.pyplot as plt\n",
    "import random\n",
    "import array"
   ]
  },
  {
   "cell_type": "code",
   "execution_count": 77,
   "metadata": {},
   "outputs": [],
   "source": [
    "def loadDataSet():\n",
    "    # 创建数据列表\n",
    "    dataMat = []\n",
    "    # 创建标签列表\n",
    "    labelMat = []\n",
    "    # 打开文件\n",
    "    fr = open('testSet.txt')\n",
    "    # 逐行读取\n",
    "    for line in fr.readlines():\n",
    "        # 去掉每行两边的空白字符，并以空格分隔每行数据元素\n",
    "        lineArr = line.strip().split()\n",
    "        # 添加数据\n",
    "        dataMat.append([1.0, float(lineArr[0]), float(lineArr[1])])\n",
    "        # 添加标签\n",
    "        labelMat.append(int(lineArr[2]))\n",
    "    # 关闭文件\n",
    "    fr.close()\n",
    "    # 返回\n",
    "    return dataMat, labelMat"
   ]
  },
  {
   "cell_type": "code",
   "execution_count": 78,
   "metadata": {},
   "outputs": [],
   "source": [
    "def sigmoid(inX):\n",
    "    return 1.0 / (1 + np.exp(-inX))"
   ]
  },
  {
   "cell_type": "code",
   "execution_count": 79,
   "metadata": {},
   "outputs": [],
   "source": [
    "def gradAscent(dataMath, classLabels):\n",
    "    # 转换成numpy的mat(矩阵)\n",
    "    dataMatrix = np.mat(dataMath)\n",
    "    # 转换成numpy的mat(矩阵)并进行转置\n",
    "    labelMat = np.mat(classLabels).transpose()\n",
    "    # 返回dataMatrix的大小，m为行数，n为列数\n",
    "    m, n = np.shape(dataMatrix)\n",
    "    # 移动步长，也就是学习效率，控制更新的幅度\n",
    "    alpha = 0.01\n",
    "    # 最大迭代次数\n",
    "    maxCycles = 500\n",
    "    weights = np.ones((n, 1))\n",
    "    weights_array = np.array([])\n",
    "    for k in range(maxCycles):\n",
    "        # 梯度上升矢量化公式\n",
    "        h = sigmoid(dataMatrix * weights)\n",
    "        error = labelMat - h\n",
    "        weights = weights + alpha * dataMatrix.transpose() * error\n",
    "        # numpy.append(arr, values, axis=None):就是arr和values会重新组合成一个新的数组，做为返回值。\n",
    "        # 当axis无定义时，是横向加成，返回总是为一维数组\n",
    "        weights_array = np.append(weights_array, weights)\n",
    "    weights_array = weights_array.reshape(maxCycles, n)\n",
    "    # 将矩阵转换为数组，返回权重数组\n",
    "    # mat.getA()将自身矩阵变量转化为ndarray类型变量\n",
    "    return weights.getA(), weights_array"
   ]
  },
  {
   "cell_type": "code",
   "execution_count": 80,
   "metadata": {},
   "outputs": [],
   "source": [
    "def plotBestFit(weights):\n",
    "    # 加载数据集\n",
    "    dataMat, labelMat = loadDataSet()\n",
    "    # 转换成numpy的array数组\n",
    "    dataArr = np.array(dataMat)\n",
    "    # 数据个数\n",
    "    # 例如建立一个4*2的矩阵c，c.shape[1]为第一维的长度2， c.shape[0]为第二维的长度4\n",
    "    n = np.shape(dataMat)[0]\n",
    "    # 正样本\n",
    "    xcord1 = []\n",
    "    ycord1 = []\n",
    "    # 负样本\n",
    "    xcord2 = []\n",
    "    ycord2 = []\n",
    "    # 根据数据集标签进行分类\n",
    "    for i in range(n):\n",
    "        if int(labelMat[i]) == 1:\n",
    "            # 1为正样本\n",
    "            xcord1.append(dataArr[i, 1])\n",
    "            ycord1.append(dataArr[i, 2])\n",
    "        else:\n",
    "            # 0为负样本\n",
    "            xcord2.append(dataArr[i, 1])\n",
    "            ycord2.append(dataArr[i, 2])\n",
    "    # 新建图框\n",
    "    fig = plt.figure()\n",
    "    # 添加subplot\n",
    "    ax = fig.add_subplot(111)\n",
    "    # 绘制正样本\n",
    "    ax.scatter(xcord1, ycord1, s=20, c='red', marker='s', alpha=.5)\n",
    "    # 绘制负样本\n",
    "    ax.scatter(xcord2, ycord2, s=20, c='green', alpha=.5)\n",
    "    # x轴坐标\n",
    "    x = np.arange(-3.0, 3.0, 0.1)\n",
    "    # w0*x0 + w1*x1 * w2*x2 = 0\n",
    "    # x0 = 1, x1 = x, x2 = y\n",
    "    y = (-weights[0] - weights[1] * x) / weights[2]\n",
    "    ax.plot(x, y)\n",
    "    # 绘制title\n",
    "    plt.title('BestFit')\n",
    "    # 绘制label\n",
    "    plt.xlabel('x1')\n",
    "    plt.ylabel('y2')\n",
    "    # 显示\n",
    "    plt.show()"
   ]
  },
  {
   "attachments": {},
   "cell_type": "markdown",
   "metadata": {},
   "source": [
    "随机梯度上升"
   ]
  },
  {
   "cell_type": "code",
   "execution_count": 81,
   "metadata": {},
   "outputs": [],
   "source": [
    "def stocGradAscent1(dataMatrix, classLabels, numIter=150):\n",
    "    # 返回dataMatrix的大小，m为行数，n为列数\n",
    "    m, n = np.shape(dataMatrix)\n",
    "    # 参数初始化\n",
    "    weights = np.ones(n)\n",
    "    weights_array = np.array([])\n",
    "    for j in range(numIter):\n",
    "        dataIndex = list(range(m))\n",
    "        for i in range(m):\n",
    "            # 每次都降低alpha的大小\n",
    "            alpha = 4/(1.0+j+i)+0.01\n",
    "            # 随机选择样本\n",
    "            randIndex = int(random.uniform(0, len(dataIndex)))\n",
    "            # 随机选择一个样本计算h\n",
    "            h = sigmoid(sum(dataMatrix[randIndex] * weights))\n",
    "            # 计算误差\n",
    "            error = classLabels[randIndex] - h\n",
    "            # 更新回归系数\n",
    "            weights = weights + alpha * error * dataMatrix[randIndex]\n",
    "            # 添加返回系数到数组中当axis为0时，数组是加在下面（列数要相同）\n",
    "            # weights_array = np.append(weights_array, weights, axis=0)\n",
    "            # 删除已使用的样本\n",
    "            del(dataIndex[randIndex])\n",
    "    # 改变维度\n",
    "    weights_array = weights_array.reshape(numIter*m, n)\n",
    "    # 返回\n",
    "    return weights.getA(), weights_array\n"
   ]
  },
  {
   "cell_type": "code",
   "execution_count": 82,
   "metadata": {},
   "outputs": [
    {
     "data": {
      "image/png": "[encoded data removed]",
      "text/plain": [
       "<Figure size 640x480 with 1 Axes>"
      ]
     },
     "metadata": {},
     "output_type": "display_data"
    }
   ],
   "source": [
    "dataArr, labelMat = loadDataSet()\n",
    "weights1, weights_array = gradAscent(dataArr,labelMat)\n",
    "plotBestFit(weights1)"
   ]
  }
 ],
 "metadata": {
  "kernelspec": {
   "display_name": "base",
   "language": "python",
   "name": "python3"
  },
  "language_info": {
   "codemirror_mode": {
    "name": "ipython",
    "version": 3
   },
   "file_extension": ".py",
   "mimetype": "text/x-python",
   "name": "python",
   "nbconvert_exporter": "python",
   "pygments_lexer": "ipython3",
   "version": "3.9.13"
  },
  "orig_nbformat": 4
 },
 "nbformat": 4,
 "nbformat_minor": 2
}
