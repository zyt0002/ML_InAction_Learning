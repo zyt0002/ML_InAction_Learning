{
 "cells": [
  {
   "cell_type": "code",
   "execution_count": 1,
   "metadata": {},
   "outputs": [],
   "source": [
    "import re"
   ]
  },
  {
   "attachments": {},
   "cell_type": "markdown",
   "metadata": {},
   "source": [
    "切分文本：\n",
    "spilt和正则表达式"
   ]
  },
  {
   "cell_type": "code",
   "execution_count": 24,
   "metadata": {},
   "outputs": [],
   "source": [
    "def textParse(string):\n",
    "    mySent = 'This is taoshao, From BeiJing University.'\n",
    "    mySent.split() #标点被当成词的一部分\n",
    "    regEx = re.compile('\\\\W*') # W* 0个或多个非字母数字或下划线字符（等价于[^a-zA-Z0-9_]）\n",
    "    listOfTokens = regEx.split(mySent)\n",
    "    # 去空白串 + 转为小写，方便词袋处理\n",
    "    return [tok.lower() for tok in listOfTokens if len(tok) >0 ]"
   ]
  }
 ],
 "metadata": {
  "kernelspec": {
   "display_name": "base",
   "language": "python",
   "name": "python3"
  },
  "language_info": {
   "codemirror_mode": {
    "name": "ipython",
    "version": 3
   },
   "file_extension": ".py",
   "mimetype": "text/x-python",
   "name": "python",
   "nbconvert_exporter": "python",
   "pygments_lexer": "ipython3",
   "version": "3.9.13"
  },
  "orig_nbformat": 4
 },
 "nbformat": 4,
 "nbformat_minor": 2
}
